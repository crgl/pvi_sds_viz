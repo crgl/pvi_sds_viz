{
 "cells": [
  {
   "cell_type": "code",
   "execution_count": null,
   "id": "b51f8129-fe19-4ee0-85df-5128b95647b6",
   "metadata": {},
   "outputs": [],
   "source": [
    "import sklearn\n",
    "import pandas as pd\n",
    "import numpy as np\n",
    "from scipy import stats\n",
    "import seaborn as sns\n",
    "import matplotlib.pyplot as plt"
   ]
  },
  {
   "cell_type": "code",
   "execution_count": null,
   "id": "101c0773-336b-4fc6-a46a-36ce0c8de63e",
   "metadata": {},
   "outputs": [],
   "source": [
    "tips = sns.load_dataset(\"tips\")\n",
    "\n",
    "sns.swarmplot(x=tips[\"total_bill\"])"
   ]
  },
  {
   "cell_type": "code",
   "execution_count": null,
   "id": "80b92a50-548c-4162-84bd-8d56e596f8df",
   "metadata": {},
   "outputs": [],
   "source": [
    "from matplotlib.patches import Circle\n",
    "\n",
    "\n",
    "fig, ax = plt.subplots(figsize=(12,8))\n",
    "\n",
    "ax = sns.swarmplot(x=tips[\"total_bill\"], s=10)\n",
    "\n",
    "\n",
    "coll = pd.DataFrame(ax.collections[0].get_offsets(), columns=['x', 'y']).sort_values(by='x')\n",
    "\n",
    "\n",
    "for quantile in [0.1, 0.5, 0.9]:\n",
    "    idx_q = round(coll.shape[0] * quantile)\n",
    "    xy = coll.iloc[idx_q, :]\n",
    "    circ = Circle((xy['x'], xy['y']), radius=0.4, fill=False, edgecolor=sns.color_palette()[9])\n",
    "    ax.add_patch(circ)"
   ]
  },
  {
   "cell_type": "code",
   "execution_count": null,
   "id": "0f6040fa-4b1c-4703-aef3-02f5a2deb708",
   "metadata": {},
   "outputs": [],
   "source": [
    "def get_aspect(ax):\n",
    "    figW, figH = ax.get_figure().get_size_inches()\n",
    "    s_l, s_b, s_r, s_t = ax.get_position().bounds\n",
    "    d_l, d_r = sorted(ax.get_xlim())\n",
    "    d_b, d_t = sorted(ax.get_ylim())\n",
    "    width_per_unit =  (s_r - s_l) * figW / (d_r - d_l)\n",
    "    height_per_unit =  (s_t - s_b) * figH / (d_t - d_b)\n",
    "    return width_per_unit / height_per_unit"
   ]
  },
  {
   "cell_type": "code",
   "execution_count": null,
   "id": "cf429135-cf22-4cd8-96c3-c448f88fc2dc",
   "metadata": {},
   "outputs": [],
   "source": [
    "from matplotlib.patches import Ellipse\n",
    "\n",
    "\n",
    "fig, ax = plt.subplots(figsize=(12,8))\n",
    "\n",
    "ax = sns.swarmplot(x=tips[\"total_bill\"], s=10)\n",
    "\n",
    "coll = pd.DataFrame(ax.collections[0].get_offsets(), columns=['x', 'y']).sort_values(by='x')\n",
    "\n",
    "aspect = get_aspect(ax)\n",
    "\n",
    "\n",
    "for quantile in [0.1, 0.5, 0.9]:\n",
    "    idx_q = round(coll.shape[0] * quantile)\n",
    "    xy = coll.iloc[idx_q, :]\n",
    "    radius = 0.05\n",
    "    circ = Ellipse((xy['x'], xy['y']), height=radius, width=radius/aspect, fill=False, edgecolor=sns.color_palette()[9], linewidth=4, alpha=0.8)\n",
    "    ax.add_patch(circ)"
   ]
  },
  {
   "cell_type": "code",
   "execution_count": null,
   "id": "31ebcbc3-d73d-4b78-9fa3-714e3ebb7dc7",
   "metadata": {},
   "outputs": [],
   "source": [
    "from matplotlib.patches import Ellipse\n",
    "\n",
    "\n",
    "fig, ax = plt.subplots(figsize=(12,8))\n",
    "\n",
    "ax = sns.swarmplot(x=tips[\"total_bill\"], s=10)\n",
    "\n",
    "coll = pd.DataFrame(ax.collections[0].get_offsets(), columns=['x', 'y']).sort_values(by='x')\n",
    "\n",
    "aspect = get_aspect(ax)\n",
    "\n",
    "\n",
    "for quantile in [0.1, 0.5, 0.9]:\n",
    "    idx_q = round(coll.shape[0] * quantile)\n",
    "    xy = coll.iloc[idx_q, :]\n",
    "    radius = 0.05\n",
    "    circ = Ellipse((xy['x'], xy['y']), height=radius, width=radius/aspect, fill=False, edgecolor='black', linewidth=3, alpha=0.8, zorder=4)\n",
    "    ax.add_patch(circ)"
   ]
  },
  {
   "cell_type": "code",
   "execution_count": null,
   "id": "bcc26475-ea80-4508-84db-517d901cda18",
   "metadata": {},
   "outputs": [],
   "source": [
    "from matplotlib.patches import Ellipse\n",
    "\n",
    "\n",
    "fig, ax = plt.subplots(figsize=(12,8))\n",
    "\n",
    "ax = sns.swarmplot(x=tips[\"total_bill\"], s=10)\n",
    "\n",
    "coll = pd.DataFrame(ax.collections[0].get_offsets(), columns=['x', 'y']).sort_values(by='x')\n",
    "\n",
    "aspect = get_aspect(ax)\n",
    "for quantile in [0.1, 0.5, 0.9]:\n",
    "    idx_q = round(coll.shape[0] * quantile)\n",
    "    xy = coll.iloc[idx_q, :]\n",
    "    radius = 0.04\n",
    "    print(radius / aspect)\n",
    "    subplot = coll[coll['x'].apply(lambda val: abs(val - xy['x']) * 3 <= radius / aspect)]\n",
    "    idx = subplot['y'].idxmin()\n",
    "    xy = coll.iloc[idx, :]\n",
    "    circ = Ellipse((xy['x'], xy['y']), height=radius, width=radius/aspect, fill=False, edgecolor='black', linewidth=3, alpha=0.8, zorder=4)\n",
    "    ax.add_patch(circ)"
   ]
  },
  {
   "cell_type": "code",
   "execution_count": null,
   "id": "11f33e81-a246-45a7-921e-31c4d80baeb5",
   "metadata": {},
   "outputs": [],
   "source": [
    "from matplotlib.patches import Ellipse\n",
    "\n",
    "\n",
    "fig, ax = plt.subplots(figsize=(12,8))\n",
    "\n",
    "ax = sns.swarmplot(x=tips[\"total_bill\"], s=10)\n",
    "\n",
    "coll = pd.DataFrame(ax.collections[0].get_offsets(), columns=['x', 'y']).sort_values(by='x')\n",
    "\n",
    "aspect = get_aspect(ax)\n",
    "for quantile in [0.1, 0.5, 0.9]:\n",
    "    idx_q = round(coll.shape[0] * quantile)\n",
    "    xy = coll.iloc[idx_q, :]\n",
    "    radius = 0.05\n",
    "    subplot = coll[coll['x'].apply(lambda val: abs(val - xy['x']) * 3 <= radius / aspect)]\n",
    "    idx = subplot['y'].idxmin()\n",
    "    xy = coll.iloc[idx, :]\n",
    "    circ = Ellipse((xy['x'], xy['y']), height=radius, width=radius/aspect, fill=False, edgecolor='black', linewidth=2.5, zorder=4)\n",
    "    ax.add_patch(circ)\n",
    "    ax.text(xy['x'], xy['y'] - 3.25 * radius, s='{} (q={})'.format(xy['x'], quantile), ha='center', fontsize=11)\n",
    "    ax.vlines(xy['x'], xy['y'] - 2.75 * radius, xy['y'] - 0.75 * radius, lw=3, linestyle='--', color='black')"
   ]
  },
  {
   "cell_type": "code",
   "execution_count": null,
   "id": "6af630c3-853b-471c-b632-60213791ff1b",
   "metadata": {},
   "outputs": [],
   "source": [
    "def annotated_swarm(data, quantiles=[0.1, 0.5, 0.9], s=10, figsize=(12,8)):\n",
    "    radius = s / 200\n",
    "    fig, ax = plt.subplots(figsize=figsize)\n",
    "\n",
    "    ax = sns.swarmplot(x=data, s=s, ax=ax)\n",
    "\n",
    "    coll = pd.DataFrame(ax.collections[0].get_offsets(), columns=['x', 'y']).sort_values(by='x')\n",
    "    \n",
    "    aspect = get_aspect(ax)\n",
    "    for quantile in quantiles:\n",
    "        idx_q = round(coll.shape[0] * quantile)\n",
    "        xy = coll.iloc[idx_q, :]\n",
    "        subplot = coll[coll['x'].apply(lambda val: abs(val - xy['x']) * 3 <= radius / aspect)]\n",
    "        idx = subplot['y'].idxmin()\n",
    "        xy = subplot.loc[idx, :]\n",
    "        circ = Ellipse((xy['x'], xy['y']), height=radius, width=radius/aspect, fill=False, edgecolor='black', linewidth=2.5, zorder=4)\n",
    "        ax.add_patch(circ)\n",
    "        ax.text(xy['x'], xy['y'] - 3.25 * radius, s='{} (q={})'.format(xy['x'], quantile), ha='center', fontsize=11)\n",
    "        ax.vlines(xy['x'], xy['y'] - 2.75 * radius, xy['y'] - 0.75 * radius, lw=3, linestyle='--', color='black')"
   ]
  },
  {
   "cell_type": "code",
   "execution_count": null,
   "id": "fee91148-970e-4438-8ec5-0cd4eca46147",
   "metadata": {},
   "outputs": [],
   "source": [
    "annotated_swarm(tips['total_bill'])"
   ]
  },
  {
   "cell_type": "code",
   "execution_count": null,
   "id": "c911b3b4-8361-4cd3-9d70-1c6de14cb3c0",
   "metadata": {},
   "outputs": [],
   "source": [
    "tips.head()"
   ]
  },
  {
   "cell_type": "code",
   "execution_count": null,
   "id": "7898beba-7c59-4cfe-8d9c-7dde4d79d78e",
   "metadata": {},
   "outputs": [],
   "source": [
    "annotated_swarm(tips['tip'])"
   ]
  },
  {
   "cell_type": "code",
   "execution_count": null,
   "id": "416a4dac-cbd3-4654-9c7d-57b9a6ebf5f6",
   "metadata": {},
   "outputs": [],
   "source": [
    "def annotated_swarm(data, quantiles=[0.1, 0.5, 0.9], s=10, figsize=(12,8)):\n",
    "    radius = s / 200\n",
    "    fig, ax = plt.subplots(figsize=figsize)\n",
    "\n",
    "    ax = sns.swarmplot(x=data, s=s, ax=ax)\n",
    "\n",
    "    coll = pd.DataFrame(ax.collections[0].get_offsets(), columns=['x', 'y']).sort_values(by='x')\n",
    "    \n",
    "    aspect = get_aspect(ax)\n",
    "    for quantile in quantiles:\n",
    "        idx_q = round(coll.shape[0] * quantile)\n",
    "        xy = coll.iloc[idx_q, :]\n",
    "        subplot = coll[coll['x'].apply(lambda val: abs(val - xy['x']) * 3 <= radius / aspect)]\n",
    "        idx = subplot['y'].idxmin()\n",
    "        xy = subplot.loc[idx, :]\n",
    "        circ = Ellipse((xy['x'], xy['y']), height=radius, width=radius/aspect, fill=False, edgecolor='black', linewidth=2.5, zorder=4)\n",
    "        ax.add_patch(circ)\n",
    "        ax.text(xy['x'], xy['y'] - 3.25 * radius, s='{:.2g} (q={})'.format(xy['x'], quantile), ha='center', fontsize=11)\n",
    "        ax.vlines(xy['x'], xy['y'] - 2.75 * radius, xy['y'] - 0.75 * radius, lw=3, linestyle='--', color='black')"
   ]
  },
  {
   "cell_type": "code",
   "execution_count": null,
   "id": "6cc70d48-b0de-4f4e-9b21-45638e185b44",
   "metadata": {},
   "outputs": [],
   "source": [
    "annotated_swarm(tips['tip'])"
   ]
  },
  {
   "cell_type": "code",
   "execution_count": null,
   "id": "5a57343a-3d60-45e5-ab5b-747b564b4990",
   "metadata": {},
   "outputs": [],
   "source": [
    "iris = sns.load_dataset('iris')"
   ]
  },
  {
   "cell_type": "code",
   "execution_count": null,
   "id": "75e08638-96f3-4b81-97b1-5502f433757a",
   "metadata": {},
   "outputs": [],
   "source": [
    "annotated_swarm(iris['sepal_length'])"
   ]
  },
  {
   "cell_type": "code",
   "execution_count": null,
   "id": "a612b8f9-ac75-4e64-a716-e30845b0b28a",
   "metadata": {},
   "outputs": [],
   "source": [
    "penguins = sns.load_dataset('penguins')\n",
    "penguins.head()"
   ]
  },
  {
   "cell_type": "code",
   "execution_count": null,
   "id": "8410fa35-38e4-46dc-864b-12bc56181df3",
   "metadata": {},
   "outputs": [],
   "source": [
    "annotated_swarm(penguins['body_mass_g'])"
   ]
  },
  {
   "cell_type": "code",
   "execution_count": null,
   "id": "bb0acfdb-ae9e-464a-ae37-e4d530c8b39f",
   "metadata": {},
   "outputs": [],
   "source": [
    "def annotated_swarm(data, quantiles=[0.1, 0.5, 0.9], s=10, figsize=(12,8)):\n",
    "    radius = s / 200\n",
    "    fig, ax = plt.subplots(figsize=figsize)\n",
    "\n",
    "    ax = sns.swarmplot(x=data, s=s, ax=ax, alpha=0)\n",
    "\n",
    "    coll = pd.DataFrame(ax.collections[0].get_offsets(), columns=['x', 'y']).sort_values(by='x')\n",
    "    \n",
    "    aspect = get_aspect(ax)\n",
    "    for quantile in quantiles:\n",
    "        idx_q = round(coll.shape[0] * quantile)\n",
    "        xy = coll.iloc[idx_q, :]\n",
    "        subplot = coll[coll['x'].apply(lambda val: abs(val - xy['x']) * 3 <= radius / aspect)]\n",
    "        idx = subplot['y'].idxmin()\n",
    "        xy = subplot.loc[idx, :]\n",
    "        circ = Ellipse((xy['x'], xy['y']), height=radius, width=radius/aspect, fill=False, edgecolor='black', linewidth=2.5, zorder=5)\n",
    "        ax.add_patch(circ)\n",
    "        ax.text(xy['x'], xy['y'] - 3.25 * radius, s='{:.2g} (q={})'.format(xy['x'], quantile), ha='center', fontsize=11)\n",
    "        ax.vlines(xy['x'], xy['y'] - 2.75 * radius, xy['y'] - 0.75 * radius, lw=3, linestyle='--', color='black', zorder=5)\n",
    "    sns.scatterplot(data=coll, x='x', y='y', hue='x', zorder=4, ax=ax, s=s*10)\n",
    "    handles, labels = ax.get_legend_handles_labels()\n",
    "    ax.legend(handles, labels)\n",
    "    ax.set_ylabel('')\n",
    "    return ax"
   ]
  },
  {
   "cell_type": "code",
   "execution_count": null,
   "id": "ff9b2364-62fb-4dd5-851e-5cc2761a00d4",
   "metadata": {},
   "outputs": [],
   "source": [
    "ax = annotated_swarm(penguins['body_mass_g'])\n",
    "ax.set_xlabel('Body Mass')"
   ]
  },
  {
   "cell_type": "code",
   "execution_count": null,
   "id": "d76de32c-58fd-4148-a1f8-9f9547f68b0b",
   "metadata": {},
   "outputs": [],
   "source": [
    "ax = annotated_swarm(tips['total_bill'])\n",
    "ax.set_xlabel(\"Total Bill ($)\")\n",
    "plt.show()"
   ]
  },
  {
   "cell_type": "code",
   "execution_count": null,
   "id": "90ff0b0c-4b82-42e4-9e66-f63932b0d52f",
   "metadata": {},
   "outputs": [],
   "source": []
  }
 ],
 "metadata": {
  "kernelspec": {
   "display_name": "Python 3 (ipykernel)",
   "language": "python",
   "name": "python3"
  },
  "language_info": {
   "codemirror_mode": {
    "name": "ipython",
    "version": 3
   },
   "file_extension": ".py",
   "mimetype": "text/x-python",
   "name": "python",
   "nbconvert_exporter": "python",
   "pygments_lexer": "ipython3",
   "version": "3.8.12"
  }
 },
 "nbformat": 4,
 "nbformat_minor": 5
}
